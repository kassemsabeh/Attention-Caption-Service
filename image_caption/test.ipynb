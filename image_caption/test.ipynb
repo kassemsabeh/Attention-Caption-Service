{
 "cells": [
  {
   "cell_type": "code",
   "execution_count": 1,
   "metadata": {},
   "outputs": [],
   "source": [
    "from attention_caption import attention_captioner"
   ]
  },
  {
   "cell_type": "code",
   "execution_count": 2,
   "metadata": {},
   "outputs": [],
   "source": [
    "captioner = attention_captioner()"
   ]
  },
  {
   "cell_type": "code",
   "execution_count": 3,
   "metadata": {},
   "outputs": [
    {
     "output_type": "execute_result",
     "data": {
      "text/plain": "'baseball game with a bat at the ball'"
     },
     "metadata": {},
     "execution_count": 3
    }
   ],
   "source": [
    "captioner.predict_caption('images/3364994882_b2a34e424b_b.jpg')"
   ]
  },
  {
   "cell_type": "code",
   "execution_count": null,
   "metadata": {},
   "outputs": [],
   "source": []
  }
 ],
 "metadata": {
  "language_info": {
   "codemirror_mode": {
    "name": "ipython",
    "version": 3
   },
   "file_extension": ".py",
   "mimetype": "text/x-python",
   "name": "python",
   "nbconvert_exporter": "python",
   "pygments_lexer": "ipython3",
   "version": 3
  },
  "orig_nbformat": 2,
  "kernelspec": {
   "name": "python_defaultSpec_1598099958827",
   "display_name": "Python 3.8.5 64-bit ('red': conda)"
  }
 },
 "nbformat": 4,
 "nbformat_minor": 2
}